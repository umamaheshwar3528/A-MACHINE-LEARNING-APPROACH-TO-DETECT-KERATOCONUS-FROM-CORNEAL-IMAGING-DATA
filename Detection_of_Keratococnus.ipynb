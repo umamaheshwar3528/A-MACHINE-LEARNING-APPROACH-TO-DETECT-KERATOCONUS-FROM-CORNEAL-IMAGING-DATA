{
 "cells": [
  {
   "cell_type": "markdown",
   "metadata": {
    "id": "gFv4v3wuEg7l"
   },
   "source": [
    "# IMPORTING MODULES"
   ]
  },
  {
   "cell_type": "code",
   "execution_count": 1,
   "metadata": {
    "id": "uNwKiTSJ91kX"
   },
   "outputs": [],
   "source": [
    "from keras.models import Sequential\n",
    "from keras.layers import Conv2D\n",
    "from keras.layers import MaxPooling2D\n",
    "from keras.layers import Flatten\n",
    "from keras.layers import Dense\n",
    "from sklearn.metrics import (accuracy_score,recall_score,f1_score)"
   ]
  },
  {
   "cell_type": "markdown",
   "metadata": {
    "id": "assavIC4EXEv"
   },
   "source": [
    "# CREATION OF MODEL OBJECT"
   ]
  },
  {
   "cell_type": "code",
   "execution_count": 2,
   "metadata": {
    "id": "MygKnIK2-oXA"
   },
   "outputs": [],
   "source": [
    "model = Sequential()\n",
    "model.add(Conv2D(32, (3, 3), input_shape = (256,256, 3), activation = 'relu'))\n",
    "model.add(MaxPooling2D(pool_size = (2, 2)))\n",
    "model.add(Conv2D(32, (3, 3), activation = 'relu'))\n",
    "model.add(MaxPooling2D(pool_size = (2, 2)))\n",
    "model.add(Flatten())"
   ]
  },
  {
   "cell_type": "code",
   "execution_count": 3,
   "metadata": {
    "id": "bO3SjXNo-kKd"
   },
   "outputs": [],
   "source": [
    "import keras\n",
    "model.add(Dense(units = 128, activation = 'relu'))\n",
    "model.add(Dense(units = 1, activation = 'sigmoid'))\n",
    "model.compile(optimizer = 'adam', loss = 'binary_crossentropy', metrics=['accuracy',keras.metrics.Precision(), keras.metrics.Recall()])"
   ]
  },
  {
   "cell_type": "markdown",
   "metadata": {
    "id": "7k4oJrGXEp5h"
   },
   "source": [
    "# IMAGE PROCESSING"
   ]
  },
  {
   "cell_type": "code",
   "execution_count": 4,
   "metadata": {
    "colab": {
     "base_uri": "https://localhost:8080/"
    },
    "id": "kzrWPxpm-kM7",
    "outputId": "cfefe69a-aa35-4c03-e4e5-a67d8dd5249c"
   },
   "outputs": [
    {
     "name": "stdout",
     "output_type": "stream",
     "text": [
      "Found 455 images belonging to 2 classes.\n",
      "Found 64 images belonging to 2 classes.\n"
     ]
    }
   ],
   "source": [
    "from keras.preprocessing.image import ImageDataGenerator\n",
    "train_datagen = ImageDataGenerator(rescale = 1./255,\n",
    "shear_range = 0.2,\n",
    "zoom_range = 0.2,\n",
    "horizontal_flip = True)\n",
    "# print(train_datagen)\n",
    "test_datagen = ImageDataGenerator(rescale = 1./255)\n",
    "training_set = train_datagen.flow_from_directory(\n",
    "    'C:/Users/pagar/keratoconus project/Dataset/input/train',\n",
    "    target_size = (256,256),\n",
    "    batch_size = 32,\n",
    "    class_mode = 'binary')\n",
    "# print(test_datagen)\n",
    "test_set = test_datagen.flow_from_directory('C:/Users/pagar/keratoconus project/Dataset/input/validation',\n",
    "target_size = (256,256),\n",
    "batch_size = 32,\n",
    "class_mode = 'binary')"
   ]
  },
  {
   "cell_type": "code",
   "execution_count": null,
   "metadata": {
    "colab": {
     "base_uri": "https://localhost:8080/",
     "height": 471
    },
    "id": "cusodsu--kPl",
    "outputId": "db187df0-e4af-4efe-acd8-8a67cb3493f0"
   },
   "outputs": [
    {
     "name": "stdout",
     "output_type": "stream",
     "text": [
      "WARNING:tensorflow:From <ipython-input-5-86e764bf0ea6>:2: Model.fit_generator (from tensorflow.python.keras.engine.training) is deprecated and will be removed in a future version.\n",
      "Instructions for updating:\n",
      "Please use Model.fit, which supports generators.\n",
      "Epoch 1/30\n",
      "15/14 [===============================] - 34s 2s/step - loss: 2.4487 - accuracy: 0.5275 - precision: 0.6020 - recall: 0.4627 - val_loss: 0.6823 - val_accuracy: 0.5312 - val_precision: 0.0000e+00 - val_recall: 0.0000e+00\n",
      "Epoch 2/30\n",
      "15/14 [===============================] - 34s 2s/step - loss: 0.6578 - accuracy: 0.5912 - precision: 0.6068 - recall: 0.7686 - val_loss: 0.6424 - val_accuracy: 0.6250 - val_precision: 0.6087 - val_recall: 0.8235\n",
      "Epoch 3/30\n",
      "15/14 [===============================] - 34s 2s/step - loss: 0.6127 - accuracy: 0.6659 - precision: 0.6746 - recall: 0.7804 - val_loss: 0.6210 - val_accuracy: 0.6250 - val_precision: 0.6667 - val_recall: 0.5882\n",
      "Epoch 4/30\n",
      "15/14 [===============================] - 33s 2s/step - loss: 0.5566 - accuracy: 0.7055 - precision: 0.7051 - recall: 0.8157 - val_loss: 0.5681 - val_accuracy: 0.7188 - val_precision: 0.7500 - val_recall: 0.7059\n",
      "Epoch 5/30\n",
      "15/14 [===============================] - 33s 2s/step - loss: 0.4959 - accuracy: 0.7473 - precision: 0.7397 - recall: 0.8471 - val_loss: 0.5684 - val_accuracy: 0.7188 - val_precision: 0.6923 - val_recall: 0.6429\n",
      "Epoch 6/30\n",
      "15/14 [===============================] - 33s 2s/step - loss: 0.4761 - accuracy: 0.7626 - precision: 0.7692 - recall: 0.8235 - val_loss: 0.5766 - val_accuracy: 0.6562 - val_precision: 0.7857 - val_recall: 0.5789\n",
      "Epoch 7/30\n",
      "15/14 [===============================] - 32s 2s/step - loss: 0.4667 - accuracy: 0.7868 - precision: 0.7782 - recall: 0.8667 - val_loss: 0.5097 - val_accuracy: 0.6562 - val_precision: 0.8182 - val_recall: 0.5000\n",
      "Epoch 8/30\n",
      "15/14 [===============================] - 33s 2s/step - loss: 0.4448 - accuracy: 0.7824 - precision: 0.7727 - recall: 0.8667 - val_loss: 0.4244 - val_accuracy: 0.7812 - val_precision: 0.7857 - val_recall: 0.7333\n",
      "Epoch 9/30\n",
      "15/14 [===============================] - 33s 2s/step - loss: 0.4396 - accuracy: 0.7956 - precision: 0.8068 - recall: 0.8353 - val_loss: 0.5581 - val_accuracy: 0.6250 - val_precision: 0.5625 - val_recall: 0.6429\n",
      "Epoch 10/30\n",
      "15/14 [===============================] - 34s 2s/step - loss: 0.4391 - accuracy: 0.7956 - precision: 0.8140 - recall: 0.8235 - val_loss: 0.4597 - val_accuracy: 0.8438 - val_precision: 0.8667 - val_recall: 0.8125\n",
      "Epoch 11/30\n",
      "15/14 [===============================] - 33s 2s/step - loss: 0.4108 - accuracy: 0.8088 - precision: 0.7979 - recall: 0.8824 - val_loss: 0.4089 - val_accuracy: 0.7500 - val_precision: 0.8000 - val_recall: 0.8000\n",
      "Epoch 12/30\n",
      "15/14 [===============================] - 33s 2s/step - loss: 0.4812 - accuracy: 0.7692 - precision: 0.7863 - recall: 0.8078 - val_loss: 0.4511 - val_accuracy: 0.7500 - val_precision: 0.7692 - val_recall: 0.6667\n",
      "Epoch 13/30\n",
      "15/14 [===============================] - 34s 2s/step - loss: 0.4421 - accuracy: 0.7978 - precision: 0.7655 - recall: 0.9216 - val_loss: 0.3333 - val_accuracy: 0.8438 - val_precision: 0.8500 - val_recall: 0.8947\n",
      "Epoch 14/30\n",
      "15/14 [===============================] - 35s 2s/step - loss: 0.4284 - accuracy: 0.7912 - precision: 0.7721 - recall: 0.8902 - val_loss: 0.4009 - val_accuracy: 0.8125 - val_precision: 0.7500 - val_recall: 0.8571\n",
      "Epoch 15/30\n",
      "15/14 [===============================] - 36s 2s/step - loss: 0.4191 - accuracy: 0.8088 - precision: 0.7897 - recall: 0.8980 - val_loss: 0.4648 - val_accuracy: 0.7500 - val_precision: 0.8125 - val_recall: 0.7222\n",
      "Epoch 16/30\n",
      "15/14 [===============================] - 33s 2s/step - loss: 0.3864 - accuracy: 0.8330 - precision: 0.8231 - recall: 0.8941 - val_loss: 0.3052 - val_accuracy: 0.8438 - val_precision: 1.0000 - val_recall: 0.6429\n",
      "Epoch 17/30\n",
      "15/14 [===============================] - 36s 2s/step - loss: 0.3855 - accuracy: 0.8330 - precision: 0.8255 - recall: 0.8902 - val_loss: 0.3928 - val_accuracy: 0.8438 - val_precision: 0.8667 - val_recall: 0.8125\n",
      "Epoch 18/30\n",
      "15/14 [===============================] - 36s 2s/step - loss: 0.3667 - accuracy: 0.8462 - precision: 0.8339 - recall: 0.9059 - val_loss: 0.4228 - val_accuracy: 0.8125 - val_precision: 0.8462 - val_recall: 0.7333\n",
      "Epoch 19/30\n",
      "15/14 [===============================] - 36s 2s/step - loss: 0.3734 - accuracy: 0.8418 - precision: 0.8376 - recall: 0.8902 - val_loss: 0.2986 - val_accuracy: 0.9375 - val_precision: 1.0000 - val_recall: 0.8947\n",
      "Epoch 20/30\n",
      "15/14 [===============================] - 35s 2s/step - loss: 0.3584 - accuracy: 0.8484 - precision: 0.8470 - recall: 0.8902 - val_loss: 0.3005 - val_accuracy: 0.8438 - val_precision: 0.8125 - val_recall: 0.8667\n",
      "Epoch 21/30\n",
      "15/14 [===============================] - 35s 2s/step - loss: 0.3669 - accuracy: 0.8198 - precision: 0.8057 - recall: 0.8941 - val_loss: 0.2120 - val_accuracy: 0.9375 - val_precision: 0.9524 - val_recall: 0.9524\n",
      "Epoch 22/30\n",
      "12/14 [========================>.....] - ETA: 5s - loss: 0.3386 - accuracy: 0.8635 - precision: 0.8660 - recall: 0.8960"
     ]
    }
   ],
   "source": [
    "batch_size=32\n",
    "model_info=model.fit_generator(training_set,\n",
    "steps_per_epoch = 455/batch_size,\n",
    "epochs = 30,\n",
    "validation_data = test_set,\n",
    "validation_steps = 30/batch_size)"
   ]
  },
  {
   "cell_type": "markdown",
   "metadata": {
    "id": "e5T8t0tfE7Q0"
   },
   "source": [
    "# PERFORMANCE METRICS"
   ]
  },
  {
   "cell_type": "code",
   "execution_count": null,
   "metadata": {
    "id": "9nPnrYgV-kSI"
   },
   "outputs": [],
   "source": [
    "score = model.evaluate_generator(test_set,40/batch_size)\n",
    "print(\"Loss: {}%\".format(score[0]*100))\n",
    "print(\"Accuracy = {}%\".format(score[1]*100))\n",
    "print(\"Precision = {}%\".format(score[2]*100))\n",
    "print(\"Recall = {}%\".format(score[3]*100))\n"
   ]
  },
  {
   "cell_type": "markdown",
   "metadata": {
    "id": "KEzqSOvbGEDb"
   },
   "source": [
    "# SAVING MODEL"
   ]
  },
  {
   "cell_type": "code",
   "execution_count": null,
   "metadata": {
    "id": "N_AlhSe9-kUP"
   },
   "outputs": [],
   "source": [
    "model.save('C:/Users/pagar/keratoconus project/model')"
   ]
  },
  {
   "cell_type": "markdown",
   "metadata": {},
   "source": [
    "# LOADING THE MODEL"
   ]
  },
  {
   "cell_type": "code",
   "execution_count": null,
   "metadata": {},
   "outputs": [],
   "source": [
    "import os\n",
    "from keras.models import load_model\n",
    "from PIL import Image\n",
    "from keras.preprocessing import image\n",
    "import numpy as np\n",
    "import cv2"
   ]
  },
  {
   "cell_type": "code",
   "execution_count": null,
   "metadata": {},
   "outputs": [],
   "source": [
    "target_size = (256,256)\n",
    "model=load_model('C:/Users/pagar/keratoconus project/model')\n",
    "print(\"model loaded\")\n"
   ]
  },
  {
   "cell_type": "code",
   "execution_count": null,
   "metadata": {},
   "outputs": [],
   "source": [
    "import numpy as np\n",
    "from keras.preprocessing import image\n",
    "\n",
    "test_image = image.load_img('C:/Users/pagar/keratoconus project/Dataset/input/train/keratoconus/Im263.jpg', target_size = (256,256))\n",
    "test_image = image.img_to_array(test_image)\n",
    "test_image = np.expand_dims(test_image, axis = 0)\n",
    "result = model.predict(test_image)\n",
    "training_set.class_indices\n",
    "if result[0][0] == 1:\n",
    " print(\"Infected with Keratoconus\")\n",
    "else:\n",
    " print(\"Normal Eye/Not Infected with Keratoconus\")\n"
   ]
  }
 ],
 "metadata": {
  "accelerator": "GPU",
  "colab": {
   "name": "Untitled0.ipynb",
   "provenance": []
  },
  "kernelspec": {
   "display_name": "Python 3 (ipykernel)",
   "language": "python",
   "name": "python3"
  },
  "language_info": {
   "codemirror_mode": {
    "name": "ipython",
    "version": 3
   },
   "file_extension": ".py",
   "mimetype": "text/x-python",
   "name": "python",
   "nbconvert_exporter": "python",
   "pygments_lexer": "ipython3",
   "version": "3.9.12"
  }
 },
 "nbformat": 4,
 "nbformat_minor": 1
}
